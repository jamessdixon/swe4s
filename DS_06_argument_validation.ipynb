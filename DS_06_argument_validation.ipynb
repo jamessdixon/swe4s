{
 "cells": [
  {
   "cell_type": "markdown",
   "metadata": {},
   "source": [
    "Argument validation is the concept of verifying the inout before working on it.\n",
    "This is sometimes called \"defensive programming\""
   ]
  },
  {
   "cell_type": "code",
   "execution_count": null,
   "metadata": {},
   "outputs": [],
   "source": [
    "def add_numbers(a, b):\n",
    "    if not isinstance(a, int):\n",
    "        raise ValueError(\"Argument 'a' must be an integer\")\n",
    "    if not isinstance(b, int):\n",
    "        raise ValueError(\"Argument 'b' must be an integer\")\n",
    "    result = a + b\n",
    "    return result"
   ]
  },
  {
   "cell_type": "code",
   "execution_count": null,
   "metadata": {},
   "outputs": [],
   "source": [
    "try:\n",
    "    result = add_numbers(3, 5)\n",
    "    print(\"Result:\", result)\n",
    "    # result = add_numbers(3, \"5\")\n",
    "    # result = add_numbers(\"3\", 5)\n",
    "except ValueError as e:\n",
    "    print(f\"Error: {e}\")"
   ]
  }
 ],
 "metadata": {
  "language_info": {
   "name": "python"
  }
 },
 "nbformat": 4,
 "nbformat_minor": 2
}
