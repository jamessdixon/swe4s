{
 "cells": [
  {
   "cell_type": "markdown",
   "metadata": {},
   "source": [
    "Impure functions are functions that depend on and/or alter \"things\" outside the function's parameters/return value.\n",
    "Examples include global variables, disk I/O, web service calls"
   ]
  },
  {
   "cell_type": "code",
   "execution_count": null,
   "metadata": {},
   "outputs": [],
   "source": [
    "global_counter = 0\n",
    "\n",
    "def impure_increment():\n",
    "    global_counter += 1\n",
    "    return global_counter\n",
    "\n",
    "result1 = impure_increment()\n",
    "result2 = impure_increment()\n",
    "print(\"Initial Counter:\", global_counter)\n",
    "print(\"Result after first call:\", result1)\n",
    "print(\"Result after second call:\", result2)"
   ]
  },
  {
   "cell_type": "code",
   "execution_count": null,
   "metadata": {},
   "outputs": [],
   "source": [
    "def pure_increment(counter):\n",
    "    counter += 1\n",
    "    return counter\n",
    "\n",
    "initial_counter = 0\n",
    "result1 = pure_increment(initial_counter)\n",
    "result2 = pure_increment(result1)\n",
    "\n",
    "print(\"Initial Counter:\", initial_counter)\n",
    "print(\"Result after first call:\", result1)\n",
    "print(\"Result after second call:\", result2)\n"
   ]
  },
  {
   "cell_type": "markdown",
   "metadata": {},
   "source": [
    "There are sneaky \"things\" that you may not realize make a function impure.\n",
    "For example, datetime.now"
   ]
  },
  {
   "cell_type": "code",
   "execution_count": null,
   "metadata": {},
   "outputs": [],
   "source": [
    "from datetime import datetime, timedelta\n",
    "\n",
    "def add_days_to_date(days_to_add):\n",
    "    current_datetime = datetime.now()\n",
    "    new_date = current_datetime + timedelta(days=days_to_add)\n",
    "    return new_date\n",
    "\n",
    "days_to_add = 5\n",
    "new_date = add_days_to_date(days_to_add)\n",
    "print(f\"New Date after adding {days_to_add} days:\", new_date)"
   ]
  },
  {
   "cell_type": "code",
   "execution_count": null,
   "metadata": {},
   "outputs": [],
   "source": [
    "from datetime import datetime, timedelta\n",
    "\n",
    "def add_days_to_date(input_date, days_to_add):\n",
    "    new_date = input_date + timedelta(days=days_to_add)\n",
    "    return new_date\n",
    "\n",
    "current_date = datetime(2023, 1, 1)\n",
    "days_to_add = 5\n",
    "new_date = add_days_to_date(current_date, days_to_add)\n",
    "print(\"Original Date:\", current_date)\n",
    "print(f\"New Date after adding {days_to_add} days:\", new_date)"
   ]
  },
  {
   "cell_type": "markdown",
   "metadata": {},
   "source": [
    "Also when you split an impure function into two parts (pure and impure),\n",
    "the covering function is still impure"
   ]
  },
  {
   "cell_type": "code",
   "execution_count": null,
   "metadata": {},
   "outputs": [],
   "source": [
    "import pandas as pd\n",
    "\n",
    "def get_working_data(file_path):\n",
    "    raw_data = pd.read_csv(file_path)\n",
    "    cleaned_data = raw_data.dropna()\n",
    "    return cleaned_data\n",
    "\n",
    "file_path = 'example_data.csv'\n",
    "data = get_working_data(file_path)"
   ]
  },
  {
   "cell_type": "code",
   "execution_count": null,
   "metadata": {},
   "outputs": [],
   "source": [
    "import pandas as pd\n",
    "\n",
    "def get_data_from_disk(file_path):\n",
    "    raw_data = pd.read_csv(file_path)\n",
    "    return raw_data\n",
    "\n",
    "def clean_data(raw_data):\n",
    "    cleaned_data = raw_data.dropna()\n",
    "    return clean_data\n",
    "\n",
    "def get_working_data(file_path):\n",
    "    raw_data = get_data_from_disk(file_path)\n",
    "    cleaned_data = clean_data(raw_data)\n",
    "    return cleaned_data\n",
    "\n",
    "file_path = 'example_data.csv'\n",
    "data = get_working_data(file_path)"
   ]
  },
  {
   "cell_type": "markdown",
   "metadata": {},
   "source": [
    "as a rule, unit test pure functions.  integration tests on impur functions."
   ]
  }
 ],
 "metadata": {
  "language_info": {
   "name": "python"
  }
 },
 "nbformat": 4,
 "nbformat_minor": 2
}
