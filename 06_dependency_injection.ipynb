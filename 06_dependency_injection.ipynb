{
 "cells": [
  {
   "cell_type": "code",
   "execution_count": null,
   "metadata": {},
   "outputs": [],
   "source": [
    "import pandas as pd\n",
    "\n",
    "def get_data(input_file_path):\n",
    "    df = pd.read_csv(input_file_path)\n",
    "    return df\n",
    "\n",
    "def clean_data(df):\n",
    "    df['Age'].fillna(df['Age'].median(), inplace=True)\n",
    "    df['Salary'].fillna(df['Salary'].mean(), inplace=True)\n",
    "\n",
    "def analyze_data(df):\n",
    "    average_salary = df['Salary'].mean()\n",
    "    return analyze_data\n",
    "\n",
    "def write_data(results, output_file_path):\n",
    "    df = pd.DataFrame({'Value': [results]})\n",
    "    df.to_csv(output_file_path, index=False)\n",
    "\n",
    "def main():\n",
    "    input_file_path = 'input_data.csv'\n",
    "    output_file_path = 'output_data.csv'\n",
    "    input_file_path = 'input_data.csv'\n",
    "    df = get_data(input_file_path)\n",
    "    clean_data(df)\n",
    "    results = analyze_data(df)\n",
    "    write_data(results, output_file_path)\n",
    "    print(\"Done\")\n",
    "\n"
   ]
  },
  {
   "cell_type": "code",
   "execution_count": null,
   "metadata": {},
   "outputs": [],
   "source": []
  }
 ],
 "metadata": {
  "language_info": {
   "name": "python"
  }
 },
 "nbformat": 4,
 "nbformat_minor": 2
}
