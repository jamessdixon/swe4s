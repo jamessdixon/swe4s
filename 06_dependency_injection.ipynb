{
 "cells": [
  {
   "cell_type": "code",
   "execution_count": null,
   "metadata": {},
   "outputs": [],
   "source": [
    "import pandas as pd\n",
    "\n",
    "def get_data(input_file_path):\n",
    "    df = pd.read_csv(input_file_path)\n",
    "    return df\n",
    "\n",
    "def clean_data(df):\n",
    "    df['Age'].fillna(df['Age'].median(), inplace=True)\n",
    "    df['Salary'].fillna(df['Salary'].mean(), inplace=True)\n",
    "\n",
    "def analyze_data(df):\n",
    "    average_salary = df['Salary'].mean()\n",
    "    return analyze_data\n",
    "\n",
    "def write_data(results, output_file_path):\n",
    "    df = pd.DataFrame({'Value': [results]})\n",
    "    df.to_csv(output_file_path, index=False)\n",
    "\n",
    "def main():\n",
    "    input_file_path = 'input_data.csv'\n",
    "    output_file_path = 'output_data.csv'\n",
    "    df = get_data(input_file_path)\n",
    "    clean_data(df)\n",
    "    results = analyze_data(df)\n",
    "    write_data(results, output_file_path)\n",
    "    print(\"Done\")\n",
    "\n"
   ]
  },
  {
   "cell_type": "code",
   "execution_count": null,
   "metadata": {},
   "outputs": [],
   "source": [
    "\n",
    "def get_data():\n",
    "    input_file_path = 'input_data.csv'\n",
    "    df = pd.read_csv(input_file_path)\n",
    "    return df\n"
   ]
  },
  {
   "cell_type": "code",
   "execution_count": null,
   "metadata": {},
   "outputs": [],
   "source": [
    "def write_data(results):\n",
    "    import os\n",
    "    from datetime import datetime\n",
    "    current_datetime = datetime.now()\n",
    "    formatted_datetime = current_datetime.strftime(\"%Y%m%d%H%M%S\")\n",
    "    file_name = formatted_datetime + '_output_data.csv'\n",
    "    directory_path = 'results'\n",
    "    output_file_path = os.path.join(directory_path, file_name)\n",
    "    df = pd.DataFrame({'Value': [results]})\n",
    "    df.to_csv(output_file_path, index=False)"
   ]
  },
  {
   "cell_type": "code",
   "execution_count": null,
   "metadata": {},
   "outputs": [],
   "source": [
    "def write_data(output_file_path, results):\n",
    "    import os\n",
    "    df = pd.DataFrame({'Value': [results]})\n",
    "    df.to_csv(output_file_path, index=False)\n",
    "\n",
    "import os\n",
    "from datetime import datetime\n",
    "\n",
    "results = []\n",
    "current_datetime = datetime.now()\n",
    "formatted_datetime = current_datetime.strftime(\"%Y%m%d%H%M%S\")\n",
    "file_name = formatted_datetime + '_output_data.csv'\n",
    "directory_path = 'results'\n",
    "output_file_path = os.path.join(directory_path, file_name)\n",
    "write_data(output_file_path, results)"
   ]
  },
  {
   "cell_type": "code",
   "execution_count": null,
   "metadata": {},
   "outputs": [],
   "source": [
    "import configparser\n",
    "\n",
    "def read_config_file(file_path):\n",
    "    config = configparser.ConfigParser()\n",
    "    config.read(file_path)\n",
    "    return config\n",
    "\n",
    "def main():\n",
    "    config_file_path = 'config.ini'\n",
    "    config_data = read_config_file(config_file_path)\n",
    "    if 'SectionName' in config_data:\n",
    "        value1 = config_data['SectionName'].get('Key1', 'Default_Value1')\n",
    "        value2 = config_data['SectionName'].get('Key2', 'Default_Value2')\n",
    "\n",
    "        print(f\"Value for Key1: {value1}\")\n",
    "        print(f\"Value for Key2: {value2}\")\n",
    "    else:\n",
    "        print(\"Section 'SectionName' not found in the config file.\")\n",
    "\n",
    "if __name__ == \"__main__\":\n",
    "    main()\n"
   ]
  },
  {
   "cell_type": "code",
   "execution_count": null,
   "metadata": {},
   "outputs": [],
   "source": []
  }
 ],
 "metadata": {
  "language_info": {
   "name": "python"
  }
 },
 "nbformat": 4,
 "nbformat_minor": 2
}
