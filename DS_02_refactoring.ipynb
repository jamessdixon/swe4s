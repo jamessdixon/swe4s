{
 "cells": [
  {
   "cell_type": "markdown",
   "metadata": {},
   "source": [
    "Rename"
   ]
  },
  {
   "cell_type": "code",
   "execution_count": null,
   "metadata": {},
   "outputs": [],
   "source": [
    "def my_kool_function():\n",
    "    print(\"Cool\")\n",
    "\n",
    "my_kool_function()"
   ]
  },
  {
   "cell_type": "markdown",
   "metadata": {},
   "source": [
    "Extract Functions"
   ]
  },
  {
   "cell_type": "code",
   "execution_count": null,
   "metadata": {},
   "outputs": [],
   "source": [
    "x = 10\n",
    "y = 5\n",
    "z = 3\n",
    "\n",
    "if x > 5:\n",
    "    print(\"x is greater than 5\")\n",
    "    if y > 2:\n",
    "        print(\"y is greater than 2\")\n",
    "        if z > 1:\n",
    "            print(\"z is greater than 1\")\n",
    "        else:\n",
    "            print(\"z is not greater than 1\")\n",
    "    else:\n",
    "        print(\"y is not greater than 2\")\n",
    "else:\n",
    "    print(\"x is not greater than 5\")\n"
   ]
  }
 ],
 "metadata": {
  "kernelspec": {
   "display_name": "base",
   "language": "python",
   "name": "python3"
  },
  "language_info": {
   "codemirror_mode": {
    "name": "ipython",
    "version": 3
   },
   "file_extension": ".py",
   "mimetype": "text/x-python",
   "name": "python",
   "nbconvert_exporter": "python",
   "pygments_lexer": "ipython3",
   "version": "3.10.11"
  }
 },
 "nbformat": 4,
 "nbformat_minor": 2
}
