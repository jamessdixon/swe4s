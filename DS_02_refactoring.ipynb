{
 "cells": [
  {
   "cell_type": "code",
   "execution_count": null,
   "metadata": {},
   "outputs": [],
   "source": [
    "def my_kool_function():\n",
    "    print(\"Cool\")\n",
    "\n",
    "my_kool_function"
   ]
  },
  {
   "cell_type": "code",
   "execution_count": null,
   "metadata": {},
   "outputs": [],
   "source": [
    "x = 10\n",
    "y = 5\n",
    "z = 3\n",
    "if x > 5:\n",
    "    print(\"x is greater than 5\")\n",
    "    if y > 2:\n",
    "        print(\"y is greater than 2\")\n",
    "        if z > 1:\n",
    "            print(\"z is greater than 1\")\n",
    "            print(\"All conditions are met!\")\n",
    "        else:\n",
    "            print(\"z is not greater than 1\")\n",
    "    else:\n",
    "        print(\"y is not greater than 2\")\n",
    "else:\n",
    "    print(\"x is not greater than 5\")\n"
   ]
  },
  {
   "cell_type": "code",
   "execution_count": null,
   "metadata": {},
   "outputs": [],
   "source": [
    "fruits = [\"apple\", \"banana\", \"cherry\"]\n",
    "\n",
    "for fruit in fruits:\n",
    "    if fruit.startswith(\"C\"):\n",
    "        print(fruit + \" starts with 'C'\")\n",
    "    else:\n",
    "        print(fruit + \" does not start with 'C'\")\n"
   ]
  }
 ],
 "metadata": {
  "language_info": {
   "name": "python"
  }
 },
 "nbformat": 4,
 "nbformat_minor": 2
}
