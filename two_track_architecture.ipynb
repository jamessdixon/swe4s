{
 "cells": [
  {
   "cell_type": "markdown",
   "metadata": {},
   "source": [
    "Name, Age, Salary\n",
    "Alice, 28, 50000\n",
    "Bob, 35, 60000\n",
    "Charlie, 22, 45000\n",
    "Dave, , 55000"
   ]
  },
  {
   "cell_type": "code",
   "execution_count": null,
   "metadata": {
    "vscode": {
     "languageId": "plaintext"
    }
   },
   "outputs": [],
   "source": [
    "import pandas as pd\n",
    "\n",
    "def get_data(file_path):\n",
    "    df = pd.read_csv(input_file)\n",
    "    return df\n",
    "\n",
    "def clean_data(df):\n",
    "    df['Age'].fillna(df['Age'].median(), inplace=True)\n",
    "    df['Salary'].fillna(df['Salary'].mean(), inplace=True)\n",
    "\n",
    "def analyze_data(df):\n",
    "    average_salary = df['Salary'].mean()\n",
    "    return analyze_data\n",
    "\n",
    "def write_data(results, output_file_path):\n",
    "    df = pd.DataFrame({'Value': [results]})\n",
    "    df.to_csv(output_file, index=False)\n",
    "\n",
    "\n",
    "def main():\n",
    "    # Read data from CSV\n",
    "    input_file_path = 'input_data.csv'\n",
    "    df = get_data(input_file_path)\n",
    "\n",
    "    # Clean data\n",
    "    clean_data(df)\n",
    "\n",
    "    # Analyze data\n",
    "    results = analyze_data(df)\n",
    "\n",
    "    # Write results\n",
    "    output_file_path = 'output_data.csv'\n",
    "    write_data(results, output_file_path)\n",
    "\n",
    "    print(\"Results written to\", output_file)"
   ]
  },
  {
   "cell_type": "code",
   "execution_count": null,
   "metadata": {
    "vscode": {
     "languageId": "plaintext"
    }
   },
   "outputs": [],
   "source": [
    "import pandas as pd\n",
    "\n",
    "def is_data_valid(df):\n",
    "    if df['Age'].isnull().any():\n",
    "        return False\n",
    "    else:\n",
    "        return True"
   ]
  },
  {
   "cell_type": "code",
   "execution_count": null,
   "metadata": {
    "vscode": {
     "languageId": "plaintext"
    }
   },
   "outputs": [],
   "source": [
    "import pandas as pd\n",
    "\n",
    "def main():\n",
    "    input_file_path = 'input_data.csv'\n",
    "    output_file_path = 'output_data.csv'\n",
    "    df = get_data(input_file_path)\n",
    "    data_valid = is_data_valid(df)\n",
    "    if data_valid:\n",
    "        clean_data(df)\n",
    "        analyze_data(df)\n",
    "        write_data(results, output_file_path)\n",
    "        print(\"Results written to\", output_file)\n",
    "    else:\n",
    "        print(\"data was not valid\")"
   ]
  },
  {
   "cell_type": "code",
   "execution_count": null,
   "metadata": {
    "vscode": {
     "languageId": "plaintext"
    }
   },
   "outputs": [],
   "source": [
    "import pandas as pd\n",
    "\n",
    "input_file_path = 'input_data.csv'\n",
    "output_file_path = 'output_data.csv'\n",
    "df = get_data(input_file_path)\n",
    "data_valid = is_data_valid(df)\n",
    "if data_valid:\n",
    "    clean_data(df)\n",
    "    results_useful = analyze_data(df)\n",
    "    if results_useful:\n",
    "        analyze_data(df)\n",
    "        write_data(df)\n",
    "        print(\"Results written to\", output_file_path)\n",
    "else:\n",
    "    print(\"data was not valid\")"
   ]
  },
  {
   "cell_type": "markdown",
   "metadata": {},
   "source": [
    "#Two Track Architecture"
   ]
  },
  {
   "cell_type": "code",
   "execution_count": null,
   "metadata": {
    "vscode": {
     "languageId": "plaintext"
    }
   },
   "outputs": [],
   "source": [
    "from collections import namedtuple\n",
    "Result = namedtuple('Result', ['continue', 'data_frame'])\n",
    "\n",
    "import pandas as pd\n",
    "\n",
    "def clean_data(result):\n",
    "    if result.continue:\n",
    "        if result.data_frame['Age'].isnull().any():\n",
    "            error_message_df = pd.DataFrame({'Value': \"Age is Null\"})\n",
    "            return Result(continue=False, data_frame=error_message_df)\n",
    "        else:\n",
    "            cleaned_df = deepcopy(result.data_frame)\n",
    "            cleaned_df['Salary'].fillna(cleaned_df['Salary'].mean(), inplace=True)\n",
    "            return Result(continue=True, data_frame=cleaned_df) \n",
    "    else:\n",
    "        return result"
   ]
  },
  {
   "cell_type": "code",
   "execution_count": null,
   "metadata": {
    "vscode": {
     "languageId": "plaintext"
    }
   },
   "outputs": [],
   "source": [
    "import pandas as pd\n",
    "\n",
    "initial_df = pd.DataFrame({'Value': \"starting\"})\n",
    "result_00 = Result(continue=True, data_frame=initial_df)\n",
    "\n",
    "input_file = 'input_data.csv'\n",
    "output_file_path = 'output_data.csv'\n",
    "\n",
    "result_01 = get_data(result_00)\n",
    "result_02 = clean_data(result_01)\n",
    "result_03 = analyze_data(result_02)\n",
    "result_04 = write_data(result_03)\n",
    "print(result04)"
   ]
  },
  {
   "cell_type": "code",
   "execution_count": null,
   "metadata": {
    "vscode": {
     "languageId": "plaintext"
    }
   },
   "outputs": [],
   "source": [
    "import pandas as pd\n",
    "\n",
    "initial_df = pd.DataFrame({'Value': \"starting\"})\n",
    "result = Result(continue=True, data_frame=initial_df)\n",
    "\n",
    "input_file = 'input_data.csv'\n",
    "output_file_path = 'output_data.csv'\n",
    "\n",
    "get_data(result)\n",
    "clean_data(result)\n",
    "analyze_data(result)\n",
    "write_data(result)\n",
    "print(result)"
   ]
  }
 ],
 "metadata": {
  "language_info": {
   "name": "python"
  }
 },
 "nbformat": 4,
 "nbformat_minor": 2
}
