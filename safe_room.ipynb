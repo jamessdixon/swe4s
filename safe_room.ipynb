{
 "cells": [
  {
   "cell_type": "markdown",
   "metadata": {},
   "source": [
    "Safe Room"
   ]
  },
  {
   "cell_type": "code",
   "execution_count": null,
   "metadata": {
    "vscode": {
     "languageId": "plaintext"
    }
   },
   "outputs": [],
   "source": [
    "import pandas as pd\n",
    "\n",
    "input_file_path = 'input_data.csv'\n",
    "output_file_path = 'output_data.csv'\n",
    "\n",
    "get_data(input_file_path)\n",
    "clean_data(result)\n",
    "analyze_data(result)\n",
    "write_data(result)\n",
    "print(result,output_file_path)"
   ]
  },
  {
   "cell_type": "code",
   "execution_count": null,
   "metadata": {
    "vscode": {
     "languageId": "plaintext"
    }
   },
   "outputs": [],
   "source": [
    "def divide_numbers(dividend, divisor):\n",
    "    if divisor == 0:\n",
    "        raise ValueError(\"Cannot divide by zero. Please provide a non-zero divisor.\")\n",
    "    result = dividend / divisor\n",
    "    return result"
   ]
  },
  {
   "cell_type": "markdown",
   "metadata": {},
   "source": [
    "get_data - file does not exist\n",
    "clean_data - data is uncleanable\n",
    "analyze_data - data is unanalyzable\n",
    "write_data - folder does not exist\n",
    "\n",
    "where should we validate arguments?\n",
    "Everywhere? Nowhere?\n",
    "\n",
    "Does anayze_data care where there data comes from?\n",
    "Does analyze_data care if there is a missing field?"
   ]
  },
  {
   "cell_type": "code",
   "execution_count": null,
   "metadata": {
    "vscode": {
     "languageId": "plaintext"
    }
   },
   "outputs": [],
   "source": [
    "import pandas as pd\n",
    "\n",
    "def main():\n",
    "    input_file_path = 'input_data.csv'\n",
    "    df = get_data(input_file_path)\n",
    "    clean_data(df)\n",
    "    results = analyze_data(df)\n",
    "    output_file_path = 'output_data.csv'\n",
    "    write_data(results, output_file_path)\n",
    "    print(\"Results written to\", output_file)\n",
    "\n",
    "def get_data(file_path):\n",
    "    if file_path is None or file_path == \"\":\n",
    "        raise ValueError(\"File path cannot be None or empty.\")\n",
    "    if not os.path.exists(file_path):\n",
    "        raise ValueError(f\"The file '{file_path}' does not exist.\")\n",
    "    df = pd.read_csv(input_file)\n",
    "    return df\n"
   ]
  },
  {
   "cell_type": "code",
   "execution_count": null,
   "metadata": {
    "vscode": {
     "languageId": "plaintext"
    }
   },
   "outputs": [],
   "source": [
    "#Validate\n",
    "get_data(input_file_path)\n",
    "clean_data(result)\n",
    "\n",
    "#No Validate\n",
    "analyze_data(result)\n",
    "\n",
    "#Validate\n",
    "write_data(result)\n",
    "print(result,output_file_path)"
   ]
  }
 ],
 "metadata": {
  "language_info": {
   "name": "python"
  }
 },
 "nbformat": 4,
 "nbformat_minor": 2
}
