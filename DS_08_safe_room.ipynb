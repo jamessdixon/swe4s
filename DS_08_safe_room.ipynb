{
 "cells": [
  {
   "cell_type": "markdown",
   "metadata": {},
   "source": [
    "Safe Room"
   ]
  },
  {
   "cell_type": "code",
   "execution_count": null,
   "metadata": {
    "vscode": {
     "languageId": "plaintext"
    }
   },
   "outputs": [],
   "source": [
    "import pandas as pd\n",
    "\n",
    "def main()\n",
    "    #from Config\n",
    "    input_file_path = 'input_data.csv'\n",
    "    output_file_path = 'output_data.csv'\n",
    "\n",
    "    data = get_data(input_file_path)\n",
    "    cleaned_data = clean_data(data)\n",
    "    results = analyze_data(cleaned_data)\n",
    "    write_data(results, output_file_path)\n"
   ]
  },
  {
   "cell_type": "code",
   "execution_count": null,
   "metadata": {
    "vscode": {
     "languageId": "plaintext"
    }
   },
   "outputs": [],
   "source": [
    "def divide_numbers(dividend, divisor):\n",
    "    if divisor == 0:\n",
    "        raise ValueError(\"Cannot divide by zero. Please provide a non-zero divisor.\")\n",
    "    result = dividend / divisor\n",
    "    return result"
   ]
  },
  {
   "cell_type": "markdown",
   "metadata": {},
   "source": [
    "get_data - file does not exist\n",
    "clean_data - data is uncleanable\n",
    "analyze_data - data is unanalyzable\n",
    "write_data - folder does not exist\n",
    "\n",
    "where should we validate arguments?\n",
    "Everywhere? Nowhere?\n",
    "\n",
    "Does anayze_data care where there data comes from?\n",
    "Does analyze_data care if there is a missing field?"
   ]
  },
  {
   "cell_type": "code",
   "execution_count": null,
   "metadata": {
    "vscode": {
     "languageId": "plaintext"
    }
   },
   "outputs": [],
   "source": [
    "import pandas as pd\n",
    "\n",
    "def get_data(file_path):\n",
    "    if file_path is None or file_path == \"\":\n",
    "        raise ValueError(\"File path cannot be None or empty.\")\n",
    "    if not os.path.exists(file_path):\n",
    "        raise ValueError(f\"The file '{file_path}' does not exist.\")\n",
    "    df = pd.read_csv(input_file)\n",
    "    return df\n",
    "\n",
    "def main():\n",
    "    try:\n",
    "        data = get_data(input_file_path)\n",
    "        cleaned_data = clean_data(data)\n",
    "        results = analyze_data(cleaned_data)\n",
    "        write_data(results, output_file_path)\n",
    "    with:\n",
    "        etc..."
   ]
  },
  {
   "cell_type": "code",
   "execution_count": null,
   "metadata": {
    "vscode": {
     "languageId": "plaintext"
    }
   },
   "outputs": [],
   "source": [
    "def main():\n",
    "    #validate\n",
    "    input_file_path = 'input_data.csv'\n",
    "    output_file_path = 'output_data.csv'\n",
    "    data = get_data(input_file_path)\n",
    "\n",
    "    #No validate\n",
    "    cleaned_data = clean_data(data)\n",
    "    results = analyze_data(cleaned_data)\n",
    "    \n",
    "    #Validate\n",
    "    write_data(results, output_file_path)\n"
   ]
  }
 ],
 "metadata": {
  "language_info": {
   "name": "python"
  }
 },
 "nbformat": 4,
 "nbformat_minor": 2
}
